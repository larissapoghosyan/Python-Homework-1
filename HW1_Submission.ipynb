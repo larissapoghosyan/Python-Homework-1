{
 "cells": [
  {
   "cell_type": "code",
   "execution_count": null,
   "metadata": {},
   "outputs": [],
   "source": [
    "# There is no need to run this chunk of code.\n",
    "import os\n",
    "wd=''\n",
    "os.chdir(wd)\n",
    "%run HW1_solutions.ipynb"
   ]
  },
  {
   "cell_type": "markdown",
   "metadata": {},
   "source": [
    "## Homework 1 Submission\n",
    "Write your name and surname below:\n",
    "<br>\n",
    "Name:\n",
    "<br>\n",
    "Surname:"
   ]
  },
  {
   "cell_type": "markdown",
   "metadata": {},
   "source": [
    "***Problem 1:*** <br> Write a program that: <br>\n",
    "a. compares the lengths of two texts given below (i.e. the number of characters in each text) <br>\n",
    "b. compares the numbers of words in each text<br>\n",
    "c. calculates the frequency of each word (the number of times the word appears in the text) in each text and puts them in a dictionary <br>\n",
    "d. prints the number of unique words used in each text as a dictionary.\n",
    "<br>\n",
    "Example 1: {\"The legth of text a\": 487,\"The legth of text b\": 562}<br>\n",
    "Example 2: Word frequency- {\"Jovi\":2,\"in\": 4}\n"
   ]
  },
  {
   "cell_type": "code",
   "execution_count": 22,
   "metadata": {},
   "outputs": [],
   "source": [
    "a = 'Bon Jovi is an American rock band formed in 1983 in Sayreville, New Jersey. \\\n",
    "It consists of singer Jon Bon Jovi, keyboardist David Bryan, drummer Tico Torres, \\\n",
    "guitarist PhilX, and bassist Hugh McDonald. Previous bassist Alec John Such was \\\n",
    "dismissed in 1994, and longtime guitarist and co-songwriter Richie Sambora left in 2013.'\n",
    "\n",
    "b = \"Ronald Wilson Reagan (/ˈreɪɡən/; February 6, 1911 – June 5, 2004) \\\n",
    "was an American politician who served as the 40th president of the United \\\n",
    "States from 1981 to 1989. Prior to his presidency, he was a Hollywood actor \\\n",
    "and union leader before serving as the 33rd governor of California from 1967 to 1975.\""
   ]
  },
  {
   "cell_type": "code",
   "execution_count": 34,
   "metadata": {},
   "outputs": [
    {
     "name": "stdout",
     "output_type": "stream",
     "text": [
      "words in text a 52\n",
      "wors in text b 53\n",
      "text a -\n",
      "{'Bon': 2, 'Jovi': 1, 'is': 1, 'an': 1, 'American': 1, 'rock': 1, 'band': 1, 'formed': 1, 'in': 4, '1983': 1, 'Sayreville,': 1, 'New': 1, 'Jersey.': 1, 'It': 1, 'consists': 1, 'of': 1, 'singer': 1, 'Jon': 1, 'Jovi,': 1, 'keyboardist': 1, 'David': 1, 'Bryan,': 1, 'drummer': 1, 'Tico': 1, 'Torres,': 1, 'guitarist': 2, 'PhilX,': 1, 'and': 3, 'bassist': 2, 'Hugh': 1, 'McDonald.': 1, 'Previous': 1, 'Alec': 1, 'John': 1, 'Such': 1, 'was': 1, 'dismissed': 1, '1994,': 1, 'longtime': 1, 'co-songwriter': 1, 'Richie': 1, 'Sambora': 1, 'left': 1, '2013.': 1}\n",
      "text b -\n",
      "{'Ronald': 1, 'Wilson': 1, 'Reagan': 1, '(/ˈreɪɡən/;': 1, 'February': 1, '6,': 1, '1911': 1, '–': 1, 'June': 1, '5,': 1, '2004)': 1, 'was': 2, 'an': 1, 'American': 1, 'politician': 1, 'who': 1, 'served': 1, 'as': 2, 'the': 3, '40th': 1, 'president': 1, 'of': 2, 'United': 1, 'States': 1, 'from': 2, '1981': 1, 'to': 3, '1989.': 1, 'Prior': 1, 'his': 1, 'presidency,': 1, 'he': 1, 'a': 1, 'Hollywood': 1, 'actor': 1, 'and': 1, 'union': 1, 'leader': 1, 'before': 1, 'serving': 1, '33rd': 1, 'governor': 1, 'California': 1, '1967': 1, '1975.': 1}\n",
      "num of unique words in text a , 44\n",
      "num of unique words in text b , 45\n"
     ]
    }
   ],
   "source": [
    "###_____________Start code here_________________###\n",
    "\n",
    "dict={\"length a\":len(a),\"length b\":len(b)}\n",
    "if(len(a) == len(b)):\n",
    "    print(dict)\n",
    "    \n",
    "\n",
    "ls0=(a.split())\n",
    "ls1=(b.split())\n",
    "\n",
    "print(\"words in text a %d\"%(len(ls0)))\n",
    "print(\"wors in text b %d\"%(len(ls1)))\n",
    "\n",
    "\n",
    "def freqwords(num):\n",
    "    dict0={}\n",
    "    for n in num:\n",
    "        dict0[n]=dict0.get(n,0)+1\n",
    "    return dict0\n",
    "#if even this function isn't true, then i truly don't know what is :/ I almost cried on this one -- thanks for attention,\n",
    "#and please do not judge too strictly :/\n",
    "        \n",
    "print(\"text a -\")\n",
    "print(freqwords(ls0))\n",
    "print(\"text b -\")\n",
    "print(freqwords(ls1))\n",
    "\n",
    "\n",
    "\n",
    "thisset0=set(ls0)\n",
    "thisset1=set(ls1)\n",
    "\n",
    "\n",
    "print('{0}, {1}'.format(\"num of unique words in text a \" ,len(thisset0)))\n",
    "print('{0}, {1}'.format(\"num of unique words in text b \" ,len(thisset1)))\n",
    "\n",
    "\n",
    "###_____________End code here_________________###"
   ]
  },
  {
   "cell_type": "code",
   "execution_count": null,
   "metadata": {},
   "outputs": [],
   "source": [
    "# There is no need to run this chunk of code.\n",
    "ex1(a,b)"
   ]
  },
  {
   "cell_type": "markdown",
   "metadata": {},
   "source": [
    "***Problem 13:*** Write a program to calculate the sum of the digits of a number  until it is a single-digit number (Example: **199** -> 1+9+9=**19** -> 1+9=**10** -> 1+0=**1**). Let the program print the result of each step (the bolded numbers in the example). Run the program for 289, 1011, 3333."
   ]
  },
  {
   "cell_type": "code",
   "execution_count": 36,
   "metadata": {},
   "outputs": [],
   "source": [
    "###_____________Start code here_________________###\n",
    "\n",
    "def sumnum(num):\n",
    "    print(\"start: %d\"%(num))\n",
    "    intgr0= str(num)\n",
    "    intgr1= list(intgr0)\n",
    "    \n",
    "    \n",
    "    sum= 0;\n",
    "    for n in intgr1:\n",
    "        sum=sum+int(n)\n",
    "    if len(str(sum))>=2:\n",
    "        sumnum(sum)\n",
    "    else:\n",
    "        print(sum)\n",
    "        sum+=1\n",
    "\n",
    "###_____________End code here_________________###"
   ]
  },
  {
   "cell_type": "code",
   "execution_count": 37,
   "metadata": {},
   "outputs": [
    {
     "name": "stdout",
     "output_type": "stream",
     "text": [
      "start: 289\n",
      "start: 19\n",
      "start: 10\n",
      "1\n",
      "start: 1011\n",
      "3\n",
      "start: 3333\n",
      "start: 12\n",
      "3\n"
     ]
    }
   ],
   "source": [
    "# There is no need to run this chunk of code.\n",
    "sumnum(289)\n",
    "sumnum(1011)\n",
    "sumnum(3333)"
   ]
  },
  {
   "cell_type": "markdown",
   "metadata": {},
   "source": [
    "***Problem 14:*** Write a program to print a chess board where **\"X\"s** are black squares and **\"O\"s** are white ones. Hint: you can use \"end\" parameter of print() function to print on the same line and separate the outputs of different prints by space or any character you want. More on this topic here: https://www.geeksforgeeks.org/gfact-50-python-end-parameter-in-print/.\n",
    "<br>The output should be like this:\n",
    "<img src=\"chess.jpg\" style=\"width: 200px;\">"
   ]
  },
  {
   "cell_type": "code",
   "execution_count": 42,
   "metadata": {},
   "outputs": [],
   "source": [
    "###_____________Start code here_________________###\n",
    "\n",
    "#8x8 size board\n",
    "def col(char0,char1,n):\n",
    "    spc=\"\"\n",
    "    i = 0\n",
    "    while i<n:\n",
    "        spc=spc+char0+char1\n",
    "        i=i+1\n",
    "    print(spc)\n",
    "\n",
    "def board(l,n):\n",
    "    for i in range(l):\n",
    "        spc=\"------\"\n",
    "        if i%2==0:\n",
    "            col(\" O \",\" X \", n)\n",
    "            print(spc*n)\n",
    "        else:\n",
    "            col(\" X \",\" O \", n)\n",
    "            print(spc*n)\n",
    "\n",
    "#couldn't add the dashes :/\n",
    "###_____________End code here_________________###"
   ]
  },
  {
   "cell_type": "code",
   "execution_count": 43,
   "metadata": {},
   "outputs": [
    {
     "name": "stdout",
     "output_type": "stream",
     "text": [
      " O  X  O  X  O  X  O  X \n",
      "------------------------\n",
      " X  O  X  O  X  O  X  O \n",
      "------------------------\n",
      " O  X  O  X  O  X  O  X \n",
      "------------------------\n",
      " X  O  X  O  X  O  X  O \n",
      "------------------------\n",
      " O  X  O  X  O  X  O  X \n",
      "------------------------\n",
      " X  O  X  O  X  O  X  O \n",
      "------------------------\n",
      " O  X  O  X  O  X  O  X \n",
      "------------------------\n",
      " X  O  X  O  X  O  X  O \n",
      "------------------------\n"
     ]
    }
   ],
   "source": [
    "# There is no need to run this chunk of code.\n",
    "board(8,4)"
   ]
  },
  {
   "cell_type": "markdown",
   "metadata": {},
   "source": [
    "***Problem 15:*** Write a program to reverse the digits of a given integer without using any built-in function or slicing. (**Example**: 12345 to 54321). Run the program for 4815162342."
   ]
  },
  {
   "cell_type": "code",
   "execution_count": 40,
   "metadata": {},
   "outputs": [],
   "source": [
    "###_____________Start code here_________________###\n",
    "n= 4815162342\n",
    "def rvrs(nm):\n",
    "    spc=\" \"\n",
    "    srn=str(nm)\n",
    "    a=len(srn)\n",
    "    for i in range(a):\n",
    "        spc=spc+srn[a-1-i]\n",
    "       \n",
    "    i = int(spc)  \n",
    "    return spc\n",
    "###_____________End code here_________________###"
   ]
  },
  {
   "cell_type": "code",
   "execution_count": 41,
   "metadata": {},
   "outputs": [
    {
     "data": {
      "text/plain": [
       "' 2432615184'"
      ]
     },
     "execution_count": 41,
     "metadata": {},
     "output_type": "execute_result"
    }
   ],
   "source": [
    "# There is no need to run this chunk of code.\n",
    "rvrs(n)"
   ]
  },
  {
   "cell_type": "markdown",
   "metadata": {},
   "source": [
    "***Problem 17:*** Write a function that will find all numbers between A and B (inclusive) such that each digit of the number is even. For example foo(20,26) returns [22,24,26]. Call the function for A=40 and B=140. 0 is even number."
   ]
  },
  {
   "cell_type": "code",
   "execution_count": 127,
   "metadata": {},
   "outputs": [],
   "source": [
    "###_____________Start code here_________________###\n",
    "def foo(A,B):\n",
    "    evenf=[]\n",
    "    for i in range(A+1,B+1):\n",
    "        if i%2==0:\n",
    "            evenf.append(i)\n",
    "            return evenf\n",
    "\n",
    "###_____________End code here_________________###"
   ]
  },
  {
   "cell_type": "code",
   "execution_count": 128,
   "metadata": {},
   "outputs": [
    {
     "data": {
      "text/plain": [
       "[42]"
      ]
     },
     "execution_count": 128,
     "metadata": {},
     "output_type": "execute_result"
    }
   ],
   "source": [
    "# There is no need to run this chunk of code.\n",
    "foo(40,140)"
   ]
  },
  {
   "cell_type": "markdown",
   "metadata": {},
   "source": [
    "***Problem 18:*** On basic cell phones numeric keypad is used to write a message. Write a function to output the numerical sequence of the keys to be pressed for any message. For instance, numerical sequence for typing \"P\" will be 7 and for \"I\" 444. Another example, the sequence for \"hello\" will be 4433555555666. Make the input text uppercase before converting to numerical sequence. Call the function for the following input **\"HI DEAR! I WILL BE LATE TODAY.\"**\n",
    "\n",
    "| Key | Symbols |\n",
    "|----|----|\n",
    "|1|. , ? ! :|\n",
    "|2|A B C|\n",
    "|3|D E F|\n",
    "|4|G H I|\n",
    "|5|J K L|\n",
    "|6|M N O|\n",
    "|7|P Q R S|\n",
    "|8|T U V|\n",
    "|9|W X Y Z|\n",
    "|0| space |\n"
   ]
  },
  {
   "cell_type": "code",
   "execution_count": 130,
   "metadata": {},
   "outputs": [],
   "source": [
    "###_____________Start code here_________________###\n",
    "a=\"HI DEAR! I WILL BE LATE TODAY.\"\n",
    "numeric_kb = {1:[\".\",\",\",\"?\",\"!\",\":\"], 2:[\"A\",\"B\",\"C\"], 3:[\"D\",\"E\",\"F\"], 4:[\"G\",\"H\",\"I\"], 5:[\"J\",\"K\",\"L\"], 6:[\"M\",\"N\",\"O\"], 7:[\"P\",\"Q\",\"R\",\"S\"], 8:[\"T\",\"U\",\"V\"],9:[\"W\",\"X\",\"Y\",\"Z\"],0:[\" \"]}\n",
    "\n",
    "lss=[]\n",
    "for i in a:\n",
    "    for j in numeric_kb.values():\n",
    "        for k in numeric_kb:\n",
    "            if j==k:\n",
    "                True\n",
    "            else:\n",
    "                continue\n",
    "\n",
    "lss.append(j)\n",
    "\n",
    "#I'm sure the ridiculous code i've written here isn't even close to what mught be true, ...well at least I tried:/\n",
    "\n",
    "###_____________End code here_________________###"
   ]
  },
  {
   "cell_type": "code",
   "execution_count": 59,
   "metadata": {},
   "outputs": [],
   "source": [
    "# There is no need to run this chunk of code."
   ]
  },
  {
   "cell_type": "markdown",
   "metadata": {},
   "source": [
    "***Problem 20:*** Write a program that accepts a sentence and prints the number of letters and digits in it. Run the program for \"1, 2, 3, 4... Let's run the code!\" "
   ]
  },
  {
   "cell_type": "code",
   "execution_count": 66,
   "metadata": {},
   "outputs": [],
   "source": [
    "###_____________Start code here_________________###\n",
    "\n",
    "nums=sum(string.isdigit() \n",
    "         for string in string)\n",
    "chars= sum(string.isalpha()\n",
    "        for string in string)\n",
    "\n",
    "###_____________End code here_________________###"
   ]
  },
  {
   "cell_type": "code",
   "execution_count": 67,
   "metadata": {},
   "outputs": [
    {
     "name": "stdout",
     "output_type": "stream",
     "text": [
      "14\n",
      "4\n"
     ]
    }
   ],
   "source": [
    "# There is no need to run this chunk of code.\n",
    "string= \"1, 2, 3, 4... Let's run the code!\"\n",
    "print(chars)\n",
    "print(nums)"
   ]
  },
  {
   "cell_type": "markdown",
   "metadata": {},
   "source": [
    "***Problem 22:*** Two people throw two six-sided fair dices each. The one with greater sum wins, and if the sum is equal, they draw. Write a program that simulates the game and plays 100 time. Print the number of wins of Player 1, Player 2 and draws."
   ]
  },
  {
   "cell_type": "code",
   "execution_count": 90,
   "metadata": {},
   "outputs": [],
   "source": [
    "###_____________Start code here_________________###\n",
    "import random\n",
    "ply00=0\n",
    "ply11=0\n",
    "smt=0\n",
    "for i in range(100):\n",
    "    ply0=0\n",
    "    ply1=0\n",
    "    for n in range(2):\n",
    "        ply0=random.randint(1,6)+ply0\n",
    "        ply1=random.randint(1,6)+ply1   \n",
    "    if ply0< ply1:\n",
    "        ply11+=1\n",
    "    elif ply0>ply1:\n",
    "        ply00+=1\n",
    "    else:\n",
    "        smt+=1\n",
    "\n",
    "###_____________End code here_________________###"
   ]
  },
  {
   "cell_type": "code",
   "execution_count": 91,
   "metadata": {},
   "outputs": [
    {
     "name": "stdout",
     "output_type": "stream",
     "text": [
      "1st player: 33\n",
      "2nd player: 52\n",
      "drawss----  15\n"
     ]
    }
   ],
   "source": [
    "# There is no need to run this chunk of code.\n",
    "print(\"1st player: %d\" %(ply11))\n",
    "print(\"2nd player: %d\"  %(ply00))\n",
    "print(\"drawss----  %i\"%(smt))"
   ]
  },
  {
   "cell_type": "markdown",
   "metadata": {},
   "source": [
    "***Problem 23:*** Write a program that randomly generates a nine-character password. First 3 characters must be from the set \"let\", second 3 characters from the set \"num\", last three ones from the set \"sym\". Set seed() to 42 and generate a password."
   ]
  },
  {
   "cell_type": "code",
   "execution_count": 20,
   "metadata": {},
   "outputs": [],
   "source": [
    "let = {'A','B','C','a','b','c'}\n",
    "num = {1,2,3,4,5,6}\n",
    "sym = {'!','@','#','$','%','^'}"
   ]
  },
  {
   "cell_type": "code",
   "execution_count": 95,
   "metadata": {},
   "outputs": [],
   "source": [
    "###_____________Start code here_________________###\n",
    "\n",
    "import random\n",
    "\n",
    "lslet = list(let)\n",
    "lsnum = list(num)\n",
    "lssym = list(sym)\n",
    "\n",
    "strr=[]\n",
    "random.seed(42)\n",
    "for i in range(9):\n",
    "    if i <3:\n",
    "        strr.append(random.choice(lslet))\n",
    "    elif i <6:  \n",
    "        strr.append(random.choice(lsnum))\n",
    "    else:\n",
    "        strr.append(random.choice(lssym))\n",
    "strroth= \"\".join(str(n) for n in strr)  \n",
    "\n",
    "###_____________End code here_________________###"
   ]
  },
  {
   "cell_type": "code",
   "execution_count": 96,
   "metadata": {},
   "outputs": [
    {
     "data": {
      "text/plain": [
       "'bBB632%%$'"
      ]
     },
     "execution_count": 96,
     "metadata": {},
     "output_type": "execute_result"
    }
   ],
   "source": [
    "# There is no need to run this chunk of code.\n",
    "\n",
    "strroth"
   ]
  },
  {
   "cell_type": "markdown",
   "metadata": {},
   "source": [
    "\n",
    "***Problem 24:*** Write a program to find all the numbers divisible by 6 but not a multiple of 5 between 100 and 500 (inclusive). Print the numbers as a comma-separated string."
   ]
  },
  {
   "cell_type": "code",
   "execution_count": 97,
   "metadata": {},
   "outputs": [],
   "source": [
    "###_____________Start code here_________________###\n",
    "\n",
    "lis=[]\n",
    "for i in range(99,501):\n",
    "    if i%6 == 0:\n",
    "        if i%5 != 0:\n",
    "            lis.append(i)\n",
    "###_____________End code here_________________###"
   ]
  },
  {
   "cell_type": "code",
   "execution_count": null,
   "metadata": {},
   "outputs": [],
   "source": [
    "# There is no need to run this chunk of code.\n",
    "ex24()"
   ]
  },
  {
   "cell_type": "markdown",
   "metadata": {},
   "source": [
    "***Example 25:*** Write a program that converts \"firstname lastname\" to \"lastname, firstname\", using list comprehensions."
   ]
  },
  {
   "cell_type": "code",
   "execution_count": 25,
   "metadata": {},
   "outputs": [],
   "source": [
    "ls = ['Հրաչյա Վարդանյան', 'Անուշ Կարապետյան', 'Գոռ Անտոնյան', 'Տաթեւ Հարությունյան', 'Mary Sargsyan']"
   ]
  },
  {
   "cell_type": "code",
   "execution_count": 109,
   "metadata": {},
   "outputs": [],
   "source": [
    "###_____________Start code here_________________###\n",
    "ls = ['Հրաչյա Վարդանյան', 'Անուշ Կարապետյան', 'Գոռ Անտոնյան', 'Տաթեւ Հարությունյան', 'Mary Sargsyan']\n",
    "for i in range(len(ls)):\n",
    "    lss=[]\n",
    "    frr=ls[i].split()\n",
    "    final=(frr[::-1])\n",
    "###_____________End code here_________________###"
   ]
  },
  {
   "cell_type": "code",
   "execution_count": 110,
   "metadata": {},
   "outputs": [
    {
     "data": {
      "text/plain": [
       "['Sargsyan', 'Mary']"
      ]
     },
     "execution_count": 110,
     "metadata": {},
     "output_type": "execute_result"
    }
   ],
   "source": [
    "# There is no need to run this chunk of code.\n",
    "final #after trying this 1038 times it still prints just one name -_-"
   ]
  },
  {
   "cell_type": "markdown",
   "metadata": {},
   "source": [
    "***Problem 27:*** Write a function to devide an input list of ages between 0 and 70 into 4 groups.<br><br>\n",
    "Baby Boomers  - (50 to 70 years old]<br>\n",
    "Generation X - (34 to 50 years old]<br>\n",
    "Generation Y - (18 to 34 years old]<br>\n",
    "Generation Z - [0 to 18 years old]<br>\n",
    "\n",
    "Return a dictionary with the following structure:\n",
    "{'Group 1':[ages],'Group 2':[ages],'Group 3':[ages],'Group 4':[ages]}"
   ]
  },
  {
   "cell_type": "code",
   "execution_count": 112,
   "metadata": {},
   "outputs": [],
   "source": [
    "###_____________Start code here_________________###\n",
    "listt = [16,15,14,17,70,45,50,61,62,38,47,44,28,32]\n",
    "dictt={}\n",
    "dictt[\"Baby Boomers\"]=[i for i in listt if (i  > 50) & (i <= 70)]\n",
    "dictt[\"Generation X\"]=[i for i in listt if (i  > 34) & (i <= 50)]\n",
    "dictt[\"Generation Y\"]=[i for i in listt if (i  > 18) & (i <= 34)]\n",
    "dictt[\"Generation Z\"]=[i for i in listt if i <= 18]\n",
    "\n",
    "\n",
    "###_____________End code here_________________###"
   ]
  },
  {
   "cell_type": "code",
   "execution_count": 114,
   "metadata": {},
   "outputs": [
    {
     "data": {
      "text/plain": [
       "{'Baby Boomers': [70, 61, 62],\n",
       " 'Generation X': [45, 50, 38, 47, 44],\n",
       " 'Generation Y': [28, 32],\n",
       " 'Generation Z': [16, 15, 14, 17]}"
      ]
     },
     "execution_count": 114,
     "metadata": {},
     "output_type": "execute_result"
    }
   ],
   "source": [
    "# There is no need to run this chunk of code.\n",
    "dictt"
   ]
  },
  {
   "cell_type": "code",
   "execution_count": null,
   "metadata": {},
   "outputs": [],
   "source": []
  }
 ],
 "metadata": {
  "kernelspec": {
   "display_name": "Python 3",
   "language": "python",
   "name": "python3"
  },
  "language_info": {
   "codemirror_mode": {
    "name": "ipython",
    "version": 3
   },
   "file_extension": ".py",
   "mimetype": "text/x-python",
   "name": "python",
   "nbconvert_exporter": "python",
   "pygments_lexer": "ipython3",
   "version": "3.7.1"
  }
 },
 "nbformat": 4,
 "nbformat_minor": 2
}
